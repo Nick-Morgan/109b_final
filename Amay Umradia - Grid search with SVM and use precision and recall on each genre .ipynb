{
 "cells": [
  {
   "cell_type": "markdown",
   "metadata": {},
   "source": [
    "import libraries"
   ]
  },
  {
   "cell_type": "code",
   "execution_count": 1,
   "metadata": {
    "collapsed": true
   },
   "outputs": [],
   "source": [
    "import tmdbsimple as tmdb\n",
    "import requests\n",
    "import pandas as pd\n",
    "import numpy as np\n",
    "import time\n",
    "from ast import literal_eval\n",
    "\n",
    "#import libraries for vectorizing the plots\n",
    "from sklearn.feature_extraction.text import CountVectorizer\n",
    "import re\n",
    "from sklearn.feature_extraction.text import TfidfTransformer\n",
    "from sklearn.preprocessing import MultiLabelBinarizer"
   ]
  },
  {
   "cell_type": "code",
   "execution_count": 2,
   "metadata": {
    "collapsed": true
   },
   "outputs": [],
   "source": [
    "#Grid search lib for modelling and SVM\n",
    "from sklearn.multiclass import OneVsRestClassifier\n",
    "from sklearn.svm import SVC\n",
    "from sklearn.model_selection import GridSearchCV\n",
    "from sklearn.metrics import f1_score\n",
    "from sklearn.metrics import make_scorer\n",
    "from sklearn.metrics import classification_report\n"
   ]
  },
  {
   "cell_type": "code",
   "execution_count": 3,
   "metadata": {
    "collapsed": true
   },
   "outputs": [],
   "source": [
    "movie_df = pd.read_csv('data/movie_df_with_imdb.csv',encoding=\"utf-8\")"
   ]
  },
  {
   "cell_type": "code",
   "execution_count": 4,
   "metadata": {},
   "outputs": [
    {
     "data": {
      "text/html": [
       "<div>\n",
       "<style>\n",
       "    .dataframe thead tr:only-child th {\n",
       "        text-align: right;\n",
       "    }\n",
       "\n",
       "    .dataframe thead th {\n",
       "        text-align: left;\n",
       "    }\n",
       "\n",
       "    .dataframe tbody tr th {\n",
       "        vertical-align: top;\n",
       "    }\n",
       "</style>\n",
       "<table border=\"1\" class=\"dataframe\">\n",
       "  <thead>\n",
       "    <tr style=\"text-align: right;\">\n",
       "      <th></th>\n",
       "      <th>tmdb_id</th>\n",
       "      <th>imdb_id</th>\n",
       "      <th>tmdb_genres</th>\n",
       "      <th>imdb_genres</th>\n",
       "      <th>binary_tmdb</th>\n",
       "      <th>binary_imdb</th>\n",
       "      <th>tmdb_plot</th>\n",
       "      <th>imdb_plot</th>\n",
       "      <th>popularity</th>\n",
       "      <th>release_date</th>\n",
       "      <th>title</th>\n",
       "      <th>vote_average</th>\n",
       "      <th>vote_count</th>\n",
       "    </tr>\n",
       "  </thead>\n",
       "  <tbody>\n",
       "    <tr>\n",
       "      <th>0</th>\n",
       "      <td>278</td>\n",
       "      <td>tt0111161</td>\n",
       "      <td>[18, 80]</td>\n",
       "      <td>[80, 18]</td>\n",
       "      <td>[0 0 0 1 0 0 0 0 0 0 1 0 0 0 0 0 0 0]</td>\n",
       "      <td>[0 0 0 1 0 0 0 0 0 0 1 0 0 0 0 0 0 0]</td>\n",
       "      <td>Framed in the 1940s for the double murder of h...</td>\n",
       "      <td>Chronicles the experiences of a formerly succe...</td>\n",
       "      <td>28.527767</td>\n",
       "      <td>1994-09-23</td>\n",
       "      <td>The Shawshank Redemption</td>\n",
       "      <td>8.5</td>\n",
       "      <td>9773</td>\n",
       "    </tr>\n",
       "    <tr>\n",
       "      <th>1</th>\n",
       "      <td>238</td>\n",
       "      <td>tt0068646</td>\n",
       "      <td>[18, 80]</td>\n",
       "      <td>[80, 18]</td>\n",
       "      <td>[0 0 0 1 0 0 0 0 0 0 1 0 0 0 0 0 0 0]</td>\n",
       "      <td>[0 0 0 1 0 0 0 0 0 0 1 0 0 0 0 0 0 0]</td>\n",
       "      <td>Spanning the years 1945 to 1955, a chronicle o...</td>\n",
       "      <td>When the aging head of a famous crime family d...</td>\n",
       "      <td>36.965452</td>\n",
       "      <td>1972-03-14</td>\n",
       "      <td>The Godfather</td>\n",
       "      <td>8.5</td>\n",
       "      <td>7394</td>\n",
       "    </tr>\n",
       "  </tbody>\n",
       "</table>\n",
       "</div>"
      ],
      "text/plain": [
       "   tmdb_id    imdb_id tmdb_genres imdb_genres  \\\n",
       "0      278  tt0111161    [18, 80]    [80, 18]   \n",
       "1      238  tt0068646    [18, 80]    [80, 18]   \n",
       "\n",
       "                             binary_tmdb  \\\n",
       "0  [0 0 0 1 0 0 0 0 0 0 1 0 0 0 0 0 0 0]   \n",
       "1  [0 0 0 1 0 0 0 0 0 0 1 0 0 0 0 0 0 0]   \n",
       "\n",
       "                             binary_imdb  \\\n",
       "0  [0 0 0 1 0 0 0 0 0 0 1 0 0 0 0 0 0 0]   \n",
       "1  [0 0 0 1 0 0 0 0 0 0 1 0 0 0 0 0 0 0]   \n",
       "\n",
       "                                           tmdb_plot  \\\n",
       "0  Framed in the 1940s for the double murder of h...   \n",
       "1  Spanning the years 1945 to 1955, a chronicle o...   \n",
       "\n",
       "                                           imdb_plot  popularity release_date  \\\n",
       "0  Chronicles the experiences of a formerly succe...   28.527767   1994-09-23   \n",
       "1  When the aging head of a famous crime family d...   36.965452   1972-03-14   \n",
       "\n",
       "                      title  vote_average  vote_count  \n",
       "0  The Shawshank Redemption           8.5        9773  \n",
       "1             The Godfather           8.5        7394  "
      ]
     },
     "execution_count": 4,
     "metadata": {},
     "output_type": "execute_result"
    }
   ],
   "source": [
    "movie_df.head(2)"
   ]
  },
  {
   "cell_type": "code",
   "execution_count": 5,
   "metadata": {},
   "outputs": [
    {
     "data": {
      "text/plain": [
       "tmdb_id                                                       278\n",
       "imdb_id                                                 tt0111161\n",
       "tmdb_genres                                              [18, 80]\n",
       "imdb_genres                                              [80, 18]\n",
       "binary_tmdb                 [0 0 0 1 0 0 0 0 0 0 1 0 0 0 0 0 0 0]\n",
       "binary_imdb                 [0 0 0 1 0 0 0 0 0 0 1 0 0 0 0 0 0 0]\n",
       "tmdb_plot       Framed in the 1940s for the double murder of h...\n",
       "imdb_plot       Chronicles the experiences of a formerly succe...\n",
       "popularity                                                28.5278\n",
       "release_date                                           1994-09-23\n",
       "title                                    The Shawshank Redemption\n",
       "vote_average                                                  8.5\n",
       "vote_count                                                   9773\n",
       "Name: 0, dtype: object"
      ]
     },
     "execution_count": 5,
     "metadata": {},
     "output_type": "execute_result"
    }
   ],
   "source": [
    "movie_df.loc[0,:]\n",
    "#movie1['tmdb_id']"
   ]
  },
  {
   "cell_type": "code",
   "execution_count": 6,
   "metadata": {
    "collapsed": true
   },
   "outputs": [],
   "source": [
    "complete_plot =[]\n",
    "for i in range(len(movie_df)):\n",
    "    movie1=movie_df.loc[i,:]\n",
    "    id=movie1['tmdb_id']\n",
    "    tmdb_plot=movie1['tmdb_plot']\n",
    "    tmdb_plot=tmdb_plot.replace(',','')\n",
    "    tmdb_plot=tmdb_plot.replace('.','')\n",
    "    complete_plot.append(tmdb_plot)"
   ]
  },
  {
   "cell_type": "code",
   "execution_count": 7,
   "metadata": {},
   "outputs": [
    {
     "name": "stdout",
     "output_type": "stream",
     "text": [
      "Print the 1st tmdb plot \n",
      "Framed in the 1940s for the double murder of his wife and her lover upstanding banker Andy Dufresne begins a new life at the Shawshank prison where he puts his accounting skills to work for an amoral warden During his long stretch in prison Dufresne comes to be admired by the other inmates -- including an older prisoner named Red -- for his integrity and unquenchable sense of hope\n",
      "============================\n",
      "The length of  the 1st tmdb plot \n",
      "1000\n"
     ]
    }
   ],
   "source": [
    "print (\"Print the 1st tmdb plot \")\n",
    "print (complete_plot[0])\n",
    "print (\"============================\")\n",
    "print (\"The length of  the 1st tmdb plot \")\n",
    "print (len(complete_plot))"
   ]
  },
  {
   "cell_type": "code",
   "execution_count": 19,
   "metadata": {},
   "outputs": [
    {
     "data": {
      "text/plain": [
       "(1000, 83)"
      ]
     },
     "execution_count": 19,
     "metadata": {},
     "output_type": "execute_result"
    }
   ],
   "source": [
    "#Tf-IDF is being used to reduce dimensionality of the input matrix X \n",
    "# \"Bag of words\" representation\n",
    "vectorize=CountVectorizer(max_df=0.95, min_df=0.05)\n",
    "# min_df  exclude words that occur rarely\n",
    "# max_df  exclude words that occur too frequently\n",
    "X=vectorize.fit_transform(complete_plot)\n",
    "\n",
    "TFID_transform = TfidfTransformer()\n",
    "X_TFID_transformed = TFID_transform.fit_transform(X)\n",
    "X_TFID_transformed.shape"
   ]
  },
  {
   "cell_type": "code",
   "execution_count": 20,
   "metadata": {
    "collapsed": true
   },
   "outputs": [],
   "source": [
    "list_genres=[]\n",
    "\n",
    "for i in range(len(movie_df)):\n",
    "    movie=movie_df.loc[i,:]\n",
    "    id=movie['tmdb_id']\n",
    "    genreIds=movie['tmdb_genres']\n",
    "    list_genres.append(genreIds)\n",
    "   "
   ]
  },
  {
   "cell_type": "code",
   "execution_count": 21,
   "metadata": {},
   "outputs": [
    {
     "data": {
      "text/plain": [
       "'[18, 80]'"
      ]
     },
     "execution_count": 21,
     "metadata": {},
     "output_type": "execute_result"
    }
   ],
   "source": [
    "list_genres[10]"
   ]
  },
  {
   "cell_type": "code",
   "execution_count": 22,
   "metadata": {},
   "outputs": [
    {
     "name": "stdout",
     "output_type": "stream",
     "text": [
      "[1 1 1 1 0 0 0 0 0 0 1 0 1 1]\n"
     ]
    }
   ],
   "source": [
    "mlb=MultiLabelBinarizer()\n",
    "y=mlb.fit_transform(list_genres)\n",
    "print (y[1])       #last element\n",
    "#print (mlb.classes_)"
   ]
  },
  {
   "cell_type": "code",
   "execution_count": 24,
   "metadata": {
    "collapsed": true
   },
   "outputs": [],
   "source": [
    "#Split X and Y for train and test dataset with 70:30 ratio\n",
    "mask = np.random.rand(X_TFID_transformed.shape[0]) < 0.7"
   ]
  },
  {
   "cell_type": "code",
   "execution_count": 25,
   "metadata": {},
   "outputs": [],
   "source": [
    "X_train =X_TFID_transformed[mask]\n",
    "X_test =X_TFID_transformed[~mask]\n",
    "y_train =y[mask]\n",
    "y_test =y[~mask]"
   ]
  },
  {
   "cell_type": "code",
   "execution_count": 27,
   "metadata": {},
   "outputs": [
    {
     "name": "stderr",
     "output_type": "stream",
     "text": [
      "C:\\Anaconda3\\lib\\site-packages\\sklearn\\multiclass.py:76: UserWarning: Label 12 is present in all training examples.\n",
      "  str(classes[c]))\n",
      "C:\\Anaconda3\\lib\\site-packages\\sklearn\\multiclass.py:76: UserWarning: Label 13 is present in all training examples.\n",
      "  str(classes[c]))\n"
     ]
    },
    {
     "data": {
      "text/plain": [
       "OneVsRestClassifier(estimator=GridSearchCV(cv=None, error_score='raise',\n",
       "       estimator=SVC(C=1.0, cache_size=200, class_weight='balanced', coef0=0.0,\n",
       "  decision_function_shape='ovr', degree=3, gamma='auto', kernel='rbf',\n",
       "  max_iter=-1, probability=False, random_state=None, shrinking=True,\n",
       "  tol=0.001, verbose=False)...fit=True, return_train_score='warn',\n",
       "       scoring=make_scorer(f1_score, average=micro), verbose=0),\n",
       "          n_jobs=1)"
      ]
     },
     "execution_count": 27,
     "metadata": {},
     "output_type": "execute_result"
    }
   ],
   "source": [
    "param_grid = [\n",
    "  {'C':[0.01, 0.1, 1.0], 'kernel': ['linear']},\n",
    "  {'C':[0.01, 0.1, 1.0], 'gamma': [0.001, 0.0001], 'kernel': ['rbf']},\n",
    " ]\n",
    "gridCV = GridSearchCV(SVC(class_weight='balanced'), param_grid, scoring=make_scorer(f1_score, average='micro'))\n",
    "grid_fit = OneVsRestClassifier(gridCV)\n",
    "\n",
    "grid_fit.fit(X_train, y_train)"
   ]
  },
  {
   "cell_type": "code",
   "execution_count": 28,
   "metadata": {},
   "outputs": [
    {
     "data": {
      "text/plain": [
       "{12: 'Adventure',\n",
       " 14: 'Fantasy',\n",
       " 16: 'Animation',\n",
       " 18: 'Drama',\n",
       " 27: 'Horror',\n",
       " 28: 'Action',\n",
       " 35: 'Comedy',\n",
       " 36: 'History',\n",
       " 37: 'Western',\n",
       " 53: 'Thriller',\n",
       " 80: 'Crime',\n",
       " 99: 'Documentary',\n",
       " 878: 'Science Fiction',\n",
       " 9648: 'Mystery',\n",
       " 10402: 'Music',\n",
       " 10749: 'Romance',\n",
       " 10751: 'Family',\n",
       " 10752: 'War',\n",
       " 10770: 'TV Movie'}"
      ]
     },
     "execution_count": 28,
     "metadata": {},
     "output_type": "execute_result"
    }
   ],
   "source": [
    "key = '38d770fa1c4e05950146f1ad5caa789f'\n",
    "payload={}\n",
    "url = \"https://api.themoviedb.org/3/genre/movie/list?api_key={0}&language=en-US\".format(key)\n",
    "response = requests.request(\"GET\", url, data=payload).json()\n",
    "\n",
    "id_to_genre = dict(zip([i['id'] for i in response['genres']],\n",
    "                     [i['name'] for i in response['genres']]))\n",
    "\n",
    "genre_to_id = dict(zip([i['name'] for i in response['genres']],\n",
    "                       [i['id'] for i in response['genres']]))\n",
    "\n",
    "id_to_genre"
   ]
  },
  {
   "cell_type": "code",
   "execution_count": 29,
   "metadata": {
    "collapsed": true
   },
   "outputs": [],
   "source": [
    "target_genres=[u'Action',\n",
    "u'Adventure',\n",
    "u'Animation',\n",
    "u'Comedy',\n",
    "u'Crime',\n",
    "u'Documentary',\n",
    "u'Drama',\n",
    "u'Family',\n",
    "u'Fantasy',\n",
    "u'History',\n",
    "u'Horror',\n",
    "u'Music',\n",
    "u'Mystery',\n",
    "u'Romance',\n",
    "u'Science Fiction',\n",
    "u'TV Movie',\n",
    "u'Thriller',\n",
    "u'War',\n",
    "u'Western']"
   ]
  },
  {
   "cell_type": "code",
   "execution_count": 30,
   "metadata": {},
   "outputs": [
    {
     "name": "stdout",
     "output_type": "stream",
     "text": [
      "                 precision    recall  f1-score   support\n",
      "\n",
      "         Action       0.81      0.65      0.72       243\n",
      "      Adventure       0.81      0.65      0.72       243\n",
      "      Animation       0.54      0.56      0.55       141\n",
      "         Comedy       0.00      0.00      0.00       257\n",
      "          Crime       0.51      0.59      0.55       115\n",
      "    Documentary       0.59      0.54      0.56       167\n",
      "          Drama       0.32      1.00      0.48        95\n",
      "         Family       0.63      0.68      0.65       176\n",
      "        Fantasy       0.26      0.51      0.34        70\n",
      "        History       0.56      0.55      0.56       137\n",
      "         Horror       0.86      0.70      0.77       252\n",
      "          Music       0.24      1.00      0.38        71\n",
      "        Mystery       1.00      1.00      1.00       300\n",
      "        Romance       1.00      1.00      1.00       300\n",
      "\n",
      "    avg / total       0.66      0.67      0.65      2567\n",
      "\n"
     ]
    },
    {
     "name": "stderr",
     "output_type": "stream",
     "text": [
      "C:\\Anaconda3\\lib\\site-packages\\sklearn\\metrics\\classification.py:1428: UserWarning: labels size, 14, does not match size of target_names, 19\n",
      "  .format(len(labels), len(target_names))\n",
      "C:\\Anaconda3\\lib\\site-packages\\sklearn\\metrics\\classification.py:1135: UndefinedMetricWarning: Precision and F-score are ill-defined and being set to 0.0 in labels with no predicted samples.\n",
      "  'precision', 'predicted', average, warn_for)\n"
     ]
    }
   ],
   "source": [
    "y_pred =grid_fit.predict(X_test)\n",
    "\n",
    "print (classification_report(y_test, y_pred, target_names=target_genres))"
   ]
  },
  {
   "cell_type": "code",
   "execution_count": null,
   "metadata": {
    "collapsed": true
   },
   "outputs": [],
   "source": []
  },
  {
   "cell_type": "code",
   "execution_count": null,
   "metadata": {
    "collapsed": true
   },
   "outputs": [],
   "source": []
  },
  {
   "cell_type": "code",
   "execution_count": null,
   "metadata": {
    "collapsed": true
   },
   "outputs": [],
   "source": []
  }
 ],
 "metadata": {
  "kernelspec": {
   "display_name": "Python 3",
   "language": "python",
   "name": "python3"
  },
  "language_info": {
   "codemirror_mode": {
    "name": "ipython",
    "version": 3
   },
   "file_extension": ".py",
   "mimetype": "text/x-python",
   "name": "python",
   "nbconvert_exporter": "python",
   "pygments_lexer": "ipython3",
   "version": "3.6.3"
  }
 },
 "nbformat": 4,
 "nbformat_minor": 2
}
