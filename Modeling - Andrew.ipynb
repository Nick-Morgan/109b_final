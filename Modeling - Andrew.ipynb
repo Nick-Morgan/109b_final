{
 "cells": [
  {
   "cell_type": "markdown",
   "metadata": {},
   "source": [
    "# Modeling and Analysis Notebook"
   ]
  },
  {
   "cell_type": "code",
   "execution_count": null,
   "metadata": {
    "collapsed": true
   },
   "outputs": [],
   "source": [
    "#import libraries\n",
    "import pandas as pd\n",
    "import "
   ]
  },
  {
   "cell_type": "code",
   "execution_count": 1,
   "metadata": {},
   "outputs": [
    {
     "ename": "NameError",
     "evalue": "name 'pd' is not defined",
     "output_type": "error",
     "traceback": [
      "\u001b[0;31m---------------------------------------------------------------------------\u001b[0m",
      "\u001b[0;31mNameError\u001b[0m                                 Traceback (most recent call last)",
      "\u001b[0;32m<ipython-input-1-9348179a2a97>\u001b[0m in \u001b[0;36m<module>\u001b[0;34m()\u001b[0m\n\u001b[0;32m----> 1\u001b[0;31m movies = pd.read_csv('data/movies.csv', encoding='utf-8',\n\u001b[0m\u001b[1;32m      2\u001b[0m                      converters={'tmdb_genres':literal_eval, \n\u001b[1;32m      3\u001b[0m                                  \u001b[0;34m'imdb_genres'\u001b[0m\u001b[0;34m:\u001b[0m\u001b[0mliteral_eval\u001b[0m\u001b[0;34m,\u001b[0m\u001b[0;34m\u001b[0m\u001b[0m\n\u001b[1;32m      4\u001b[0m                                  \u001b[0;34m'binary_tmdb'\u001b[0m\u001b[0;34m:\u001b[0m\u001b[0mliteral_eval\u001b[0m\u001b[0;34m,\u001b[0m\u001b[0;34m\u001b[0m\u001b[0m\n\u001b[1;32m      5\u001b[0m                                  \u001b[0;34m'binary_imdb'\u001b[0m\u001b[0;34m:\u001b[0m\u001b[0mliteral_eval\u001b[0m\u001b[0;34m,\u001b[0m\u001b[0;34m\u001b[0m\u001b[0m\n",
      "\u001b[0;31mNameError\u001b[0m: name 'pd' is not defined"
     ]
    }
   ],
   "source": [
    "movies = pd.read_csv('data/movies.csv', encoding='utf-8',\n",
    "                     converters={'tmdb_genres':literal_eval, \n",
    "                                 'imdb_genres':literal_eval,\n",
    "                                 'binary_tmdb':literal_eval,\n",
    "                                 'binary_imdb':literal_eval,\n",
    "                                 'tmdb_w2v_plot':literal_eval,\n",
    "                                 'imdb_w2v_plot':literal_eval})"
   ]
  },
  {
   "cell_type": "code",
   "execution_count": null,
   "metadata": {
    "collapsed": true
   },
   "outputs": [],
   "source": []
  }
 ],
 "metadata": {
  "kernelspec": {
   "display_name": "Python 3",
   "language": "python",
   "name": "python3"
  },
  "language_info": {
   "codemirror_mode": {
    "name": "ipython",
    "version": 3
   },
   "file_extension": ".py",
   "mimetype": "text/x-python",
   "name": "python",
   "nbconvert_exporter": "python",
   "pygments_lexer": "ipython3",
   "version": "3.6.4"
  }
 },
 "nbformat": 4,
 "nbformat_minor": 2
}
