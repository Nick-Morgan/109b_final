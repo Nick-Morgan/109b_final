{
 "cells": [
  {
   "cell_type": "code",
   "execution_count": 1,
   "metadata": {
    "collapsed": true
   },
   "outputs": [],
   "source": [
    "import pandas as pd\n",
    "from ast import literal_eval\n",
    "import numpy as np\n",
    "from sklearn.feature_extraction.text import CountVectorizer"
   ]
  },
  {
   "cell_type": "code",
   "execution_count": 127,
   "metadata": {},
   "outputs": [],
   "source": [
    "df = pd.read_csv('data/movie_df_with_imdb.csv', encoding='utf8', converters={'tmdb_genres':literal_eval,\n",
    "                                                                            'imdb_genres':literal_eval,\n",
    "                                                                            'binary_tmdb':literal_eval,\n",
    "                                                                            'binary_imdb':literal_eval\n",
    "                                                                            })"
   ]
  },
  {
   "cell_type": "code",
   "execution_count": 13,
   "metadata": {},
   "outputs": [
    {
     "data": {
      "text/html": [
       "<div>\n",
       "<style>\n",
       "    .dataframe thead tr:only-child th {\n",
       "        text-align: right;\n",
       "    }\n",
       "\n",
       "    .dataframe thead th {\n",
       "        text-align: left;\n",
       "    }\n",
       "\n",
       "    .dataframe tbody tr th {\n",
       "        vertical-align: top;\n",
       "    }\n",
       "</style>\n",
       "<table border=\"1\" class=\"dataframe\">\n",
       "  <thead>\n",
       "    <tr style=\"text-align: right;\">\n",
       "      <th></th>\n",
       "      <th>tmdb_id</th>\n",
       "      <th>imdb_id</th>\n",
       "      <th>tmdb_genres</th>\n",
       "      <th>imdb_genres</th>\n",
       "      <th>binary_tmdb</th>\n",
       "      <th>binary_imdb</th>\n",
       "      <th>tmdb_plot</th>\n",
       "      <th>imdb_plot</th>\n",
       "      <th>popularity</th>\n",
       "      <th>release_date</th>\n",
       "      <th>title</th>\n",
       "      <th>vote_average</th>\n",
       "      <th>vote_count</th>\n",
       "    </tr>\n",
       "  </thead>\n",
       "  <tbody>\n",
       "    <tr>\n",
       "      <th>0</th>\n",
       "      <td>278</td>\n",
       "      <td>tt0111161</td>\n",
       "      <td>[18, 80]</td>\n",
       "      <td>[80, 18]</td>\n",
       "      <td>[0, 0, 0, 1, 0, 0, 0, 0, 0, 0, 1, 0, 0, 0, 0, ...</td>\n",
       "      <td>[0, 0, 0, 1, 0, 0, 0, 0, 0, 0, 1, 0, 0, 0, 0, ...</td>\n",
       "      <td>Framed in the 1940s for the double murder of h...</td>\n",
       "      <td>Chronicles the experiences of a formerly succe...</td>\n",
       "      <td>28.527767</td>\n",
       "      <td>1994-09-23</td>\n",
       "      <td>The Shawshank Redemption</td>\n",
       "      <td>8.5</td>\n",
       "      <td>9773</td>\n",
       "    </tr>\n",
       "    <tr>\n",
       "      <th>1</th>\n",
       "      <td>238</td>\n",
       "      <td>tt0068646</td>\n",
       "      <td>[18, 80]</td>\n",
       "      <td>[80, 18]</td>\n",
       "      <td>[0, 0, 0, 1, 0, 0, 0, 0, 0, 0, 1, 0, 0, 0, 0, ...</td>\n",
       "      <td>[0, 0, 0, 1, 0, 0, 0, 0, 0, 0, 1, 0, 0, 0, 0, ...</td>\n",
       "      <td>Spanning the years 1945 to 1955, a chronicle o...</td>\n",
       "      <td>When the aging head of a famous crime family d...</td>\n",
       "      <td>36.965452</td>\n",
       "      <td>1972-03-14</td>\n",
       "      <td>The Godfather</td>\n",
       "      <td>8.5</td>\n",
       "      <td>7394</td>\n",
       "    </tr>\n",
       "    <tr>\n",
       "      <th>2</th>\n",
       "      <td>424</td>\n",
       "      <td>tt0108052</td>\n",
       "      <td>[18, 36, 10752]</td>\n",
       "      <td>[18, 36]</td>\n",
       "      <td>[0, 0, 0, 1, 0, 0, 0, 1, 0, 0, 0, 0, 0, 0, 0, ...</td>\n",
       "      <td>[0, 0, 0, 1, 0, 0, 0, 1, 0, 0, 0, 0, 0, 0, 0, ...</td>\n",
       "      <td>The true story of how businessman Oskar Schind...</td>\n",
       "      <td>Oskar Schindler is a vainglorious and greedy G...</td>\n",
       "      <td>19.945455</td>\n",
       "      <td>1993-11-29</td>\n",
       "      <td>Schindler's List</td>\n",
       "      <td>8.4</td>\n",
       "      <td>5518</td>\n",
       "    </tr>\n",
       "    <tr>\n",
       "      <th>3</th>\n",
       "      <td>240</td>\n",
       "      <td>tt0071562</td>\n",
       "      <td>[18, 80]</td>\n",
       "      <td>[80, 18]</td>\n",
       "      <td>[0, 0, 0, 1, 0, 0, 0, 0, 0, 0, 1, 0, 0, 0, 0, ...</td>\n",
       "      <td>[0, 0, 0, 1, 0, 0, 0, 0, 0, 0, 1, 0, 0, 0, 0, ...</td>\n",
       "      <td>In the continuing saga of the Corleone crime f...</td>\n",
       "      <td>The continuing saga of the Corleone crime fami...</td>\n",
       "      <td>30.191804</td>\n",
       "      <td>1974-12-20</td>\n",
       "      <td>The Godfather: Part II</td>\n",
       "      <td>8.4</td>\n",
       "      <td>4249</td>\n",
       "    </tr>\n",
       "    <tr>\n",
       "      <th>4</th>\n",
       "      <td>452522</td>\n",
       "      <td>tt0278784</td>\n",
       "      <td>[18, 9648]</td>\n",
       "      <td>[80, 18, 9648, 53]</td>\n",
       "      <td>[0, 0, 0, 1, 0, 0, 0, 0, 0, 0, 0, 0, 1, 0, 0, ...</td>\n",
       "      <td>[0, 0, 0, 1, 0, 0, 0, 0, 0, 1, 1, 0, 0, 1, 0, ...</td>\n",
       "      <td>Standalone version of the series pilot with an...</td>\n",
       "      <td>When beautiful, young Laura Palmer is found br...</td>\n",
       "      <td>5.969249</td>\n",
       "      <td>1989-12-31</td>\n",
       "      <td>Twin Peaks</td>\n",
       "      <td>8.4</td>\n",
       "      <td>123</td>\n",
       "    </tr>\n",
       "  </tbody>\n",
       "</table>\n",
       "</div>"
      ],
      "text/plain": [
       "   tmdb_id    imdb_id      tmdb_genres         imdb_genres  \\\n",
       "0      278  tt0111161         [18, 80]            [80, 18]   \n",
       "1      238  tt0068646         [18, 80]            [80, 18]   \n",
       "2      424  tt0108052  [18, 36, 10752]            [18, 36]   \n",
       "3      240  tt0071562         [18, 80]            [80, 18]   \n",
       "4   452522  tt0278784       [18, 9648]  [80, 18, 9648, 53]   \n",
       "\n",
       "                                         binary_tmdb  \\\n",
       "0  [0, 0, 0, 1, 0, 0, 0, 0, 0, 0, 1, 0, 0, 0, 0, ...   \n",
       "1  [0, 0, 0, 1, 0, 0, 0, 0, 0, 0, 1, 0, 0, 0, 0, ...   \n",
       "2  [0, 0, 0, 1, 0, 0, 0, 1, 0, 0, 0, 0, 0, 0, 0, ...   \n",
       "3  [0, 0, 0, 1, 0, 0, 0, 0, 0, 0, 1, 0, 0, 0, 0, ...   \n",
       "4  [0, 0, 0, 1, 0, 0, 0, 0, 0, 0, 0, 0, 1, 0, 0, ...   \n",
       "\n",
       "                                         binary_imdb  \\\n",
       "0  [0, 0, 0, 1, 0, 0, 0, 0, 0, 0, 1, 0, 0, 0, 0, ...   \n",
       "1  [0, 0, 0, 1, 0, 0, 0, 0, 0, 0, 1, 0, 0, 0, 0, ...   \n",
       "2  [0, 0, 0, 1, 0, 0, 0, 1, 0, 0, 0, 0, 0, 0, 0, ...   \n",
       "3  [0, 0, 0, 1, 0, 0, 0, 0, 0, 0, 1, 0, 0, 0, 0, ...   \n",
       "4  [0, 0, 0, 1, 0, 0, 0, 0, 0, 1, 1, 0, 0, 1, 0, ...   \n",
       "\n",
       "                                           tmdb_plot  \\\n",
       "0  Framed in the 1940s for the double murder of h...   \n",
       "1  Spanning the years 1945 to 1955, a chronicle o...   \n",
       "2  The true story of how businessman Oskar Schind...   \n",
       "3  In the continuing saga of the Corleone crime f...   \n",
       "4  Standalone version of the series pilot with an...   \n",
       "\n",
       "                                           imdb_plot  popularity release_date  \\\n",
       "0  Chronicles the experiences of a formerly succe...   28.527767   1994-09-23   \n",
       "1  When the aging head of a famous crime family d...   36.965452   1972-03-14   \n",
       "2  Oskar Schindler is a vainglorious and greedy G...   19.945455   1993-11-29   \n",
       "3  The continuing saga of the Corleone crime fami...   30.191804   1974-12-20   \n",
       "4  When beautiful, young Laura Palmer is found br...    5.969249   1989-12-31   \n",
       "\n",
       "                      title  vote_average  vote_count  \n",
       "0  The Shawshank Redemption           8.5        9773  \n",
       "1             The Godfather           8.5        7394  \n",
       "2          Schindler's List           8.4        5518  \n",
       "3    The Godfather: Part II           8.4        4249  \n",
       "4                Twin Peaks           8.4         123  "
      ]
     },
     "execution_count": 13,
     "metadata": {},
     "output_type": "execute_result"
    }
   ],
   "source": [
    "df.head()"
   ]
  },
  {
   "cell_type": "markdown",
   "metadata": {},
   "source": [
    "# Accuracy Score\n",
    "\n",
    "Since many of the movies have multiple genres, we want our accuracy score to reflect partial correctness. For example, if a movie has the genres \"Romance\" and \"Comedy\", and our model predicts \"Comedy\", we would consider the accuracy to be 0.5."
   ]
  },
  {
   "cell_type": "code",
   "execution_count": 121,
   "metadata": {},
   "outputs": [],
   "source": [
    "y_pred = df.loc[9,'binary_imdb'] #genre = 18\n",
    "y_true = df.loc[0,'binary_imdb'] #genre = [18,80]\n",
    "\n",
    "y_pred_2 = df.loc[4,'binary_imdb'] #genre = [80, 18, 9648, 53]"
   ]
  },
  {
   "cell_type": "code",
   "execution_count": 128,
   "metadata": {},
   "outputs": [
    {
     "name": "stdout",
     "output_type": "stream",
     "text": [
      "Prediction: [18], Actual: [18,80]\n",
      "             precision    recall  f1-score   support\n",
      "\n",
      "         18       1.00      0.94      0.97        17\n",
      "         80       0.50      1.00      0.67         1\n",
      "\n",
      "avg / total       0.97      0.94      0.95        18\n",
      "\n",
      "\n",
      "\n",
      "\n",
      "Prediction: [80, 18, 9648, 53], Actual: [18,80]\n",
      "             precision    recall  f1-score   support\n",
      "\n",
      "         18       0.88      1.00      0.93        14\n",
      "         80       1.00      0.50      0.67         4\n",
      "\n",
      "avg / total       0.90      0.89      0.87        18\n",
      "\n"
     ]
    }
   ],
   "source": [
    "print('Prediction: [18], Actual: [18,80]')\n",
    "print(classification_report(y_pred, y_true,target_names=['18','80']))\n",
    "print('\\n\\n')\n",
    "print('Prediction: [80, 18, 9648, 53], Actual: [18,80]')\n",
    "print(classification_report(y_pred_2, y_true,target_names=['18','80']))"
   ]
  },
  {
   "cell_type": "markdown",
   "metadata": {},
   "source": [
    "# Bag of Words\n",
    "\n",
    "todo - is returning the array sufficient or should we return the entire CountVectorizer object?"
   ]
  },
  {
   "cell_type": "code",
   "execution_count": 144,
   "metadata": {
    "collapsed": true
   },
   "outputs": [],
   "source": [
    "#conda install gensim\n",
    "from gensim import models\n",
    "\n",
    "#pip install stop_words\n",
    "from stop_words import get_stop_words\n",
    "en_stop = get_stop_words('en')"
   ]
  },
  {
   "cell_type": "code",
   "execution_count": 147,
   "metadata": {
    "collapsed": true
   },
   "outputs": [],
   "source": [
    "def bag_of_words(series, removeStopWords=False):\n",
    "    if removeStopWords:\n",
    "        vec=CountVectorizer(stop_words=en_stop)\n",
    "    else:\n",
    "        vec = CountVectorizer()\n",
    "    vec.fit(series)\n",
    "    vec=vec.transform(series)\n",
    "    return vec.toarray()"
   ]
  },
  {
   "cell_type": "code",
   "execution_count": 148,
   "metadata": {},
   "outputs": [
    {
     "data": {
      "text/plain": [
       "(1000, 8873)"
      ]
     },
     "execution_count": 148,
     "metadata": {},
     "output_type": "execute_result"
    }
   ],
   "source": [
    "bag_of_words(df['tmdb_plot']).shape"
   ]
  },
  {
   "cell_type": "code",
   "execution_count": 149,
   "metadata": {},
   "outputs": [
    {
     "data": {
      "text/plain": [
       "(1000, 14137)"
      ]
     },
     "execution_count": 149,
     "metadata": {},
     "output_type": "execute_result"
    }
   ],
   "source": [
    "bag_of_words(df['imdb_plot']).shape"
   ]
  },
  {
   "cell_type": "code",
   "execution_count": 150,
   "metadata": {},
   "outputs": [
    {
     "data": {
      "text/plain": [
       "(1000, 8761)"
      ]
     },
     "execution_count": 150,
     "metadata": {},
     "output_type": "execute_result"
    }
   ],
   "source": [
    "bag_of_words(df['tmdb_plot'],removeStopWords=True).shape"
   ]
  },
  {
   "cell_type": "code",
   "execution_count": 151,
   "metadata": {},
   "outputs": [
    {
     "data": {
      "text/plain": [
       "(1000, 14018)"
      ]
     },
     "execution_count": 151,
     "metadata": {},
     "output_type": "execute_result"
    }
   ],
   "source": [
    "bag_of_words(df['imdb_plot'],removeStopWords=True).shape"
   ]
  },
  {
   "cell_type": "markdown",
   "metadata": {},
   "source": [
    "# Word2Vec\n",
    "\n",
    "Download google's model here, be sure to .gitignore this file:\n",
    "https://drive.google.com/file/d/0B7XkCwpI5KDYNlNUTTlSS21pQmM/edit"
   ]
  },
  {
   "cell_type": "code",
   "execution_count": 108,
   "metadata": {
    "collapsed": true
   },
   "outputs": [],
   "source": [
    "model = models.KeyedVectors.load_word2vec_format('GoogleNews-vectors-negative300.bin.gz', binary=True)"
   ]
  },
  {
   "cell_type": "code",
   "execution_count": 157,
   "metadata": {
    "collapsed": true
   },
   "outputs": [],
   "source": [
    "def apply_words2Vec(doc, removeStopWords=False):\n",
    "    doc=doc.split(' ')\n",
    "    \n",
    "    if removeStopWords:\n",
    "        words=list(filter(lambda x: x not in en_stop, doc))\n",
    "        \n",
    "    words=list(filter(lambda x: x in model.vocab, doc))\n",
    "    return model[words]"
   ]
  },
  {
   "cell_type": "code",
   "execution_count": 159,
   "metadata": {},
   "outputs": [
    {
     "data": {
      "text/plain": [
       "(1000,)"
      ]
     },
     "execution_count": 159,
     "metadata": {},
     "output_type": "execute_result"
    }
   ],
   "source": [
    "df['tmdb_plot'].apply(lambda x: apply_words2Vec(x)).shape"
   ]
  },
  {
   "cell_type": "code",
   "execution_count": 160,
   "metadata": {},
   "outputs": [
    {
     "data": {
      "text/plain": [
       "(1000,)"
      ]
     },
     "execution_count": 160,
     "metadata": {},
     "output_type": "execute_result"
    }
   ],
   "source": [
    "df['imdb_plot'].apply(lambda x: apply_words2Vec(x)).shape"
   ]
  },
  {
   "cell_type": "code",
   "execution_count": 161,
   "metadata": {},
   "outputs": [
    {
     "data": {
      "text/plain": [
       "(1000,)"
      ]
     },
     "execution_count": 161,
     "metadata": {},
     "output_type": "execute_result"
    }
   ],
   "source": [
    "df['tmdb_plot'].apply(lambda x: apply_words2Vec(x, removeStopWords=True)).shape"
   ]
  },
  {
   "cell_type": "code",
   "execution_count": 162,
   "metadata": {},
   "outputs": [
    {
     "data": {
      "text/plain": [
       "(1000,)"
      ]
     },
     "execution_count": 162,
     "metadata": {},
     "output_type": "execute_result"
    }
   ],
   "source": [
    "df['imdb_plot'].apply(lambda x: apply_words2Vec(x, removeStopWords=True)).shape"
   ]
  },
  {
   "cell_type": "code",
   "execution_count": null,
   "metadata": {
    "collapsed": true
   },
   "outputs": [],
   "source": []
  }
 ],
 "metadata": {
  "kernelspec": {
   "display_name": "Python 3",
   "language": "python",
   "name": "python3"
  },
  "language_info": {
   "codemirror_mode": {
    "name": "ipython",
    "version": 3
   },
   "file_extension": ".py",
   "mimetype": "text/x-python",
   "name": "python",
   "nbconvert_exporter": "python",
   "pygments_lexer": "ipython3",
   "version": "3.6.1"
  }
 },
 "nbformat": 4,
 "nbformat_minor": 2
}
