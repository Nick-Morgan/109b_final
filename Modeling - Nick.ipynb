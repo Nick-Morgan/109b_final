{
 "cells": [
  {
   "cell_type": "code",
   "execution_count": 1,
   "metadata": {
    "collapsed": true
   },
   "outputs": [],
   "source": [
    "#import libraries\n",
    "import pandas as pd\n",
    "from ast import literal_eval\n",
    "from sklearn.multiclass import OneVsRestClassifier\n",
    "from sklearn.svm import SVC\n",
    "from sklearn.naive_bayes import MultinomialNB\n",
    "from sklearn.model_selection import GridSearchCV\n",
    "from sklearn.feature_extraction.text import CountVectorizer\n",
    "from sklearn.feature_extraction.text import TfidfTransformer\n",
    "from sklearn.pipeline import Pipeline\n",
    "from sklearn.model_selection import train_test_split\n",
    "from sklearn.multiclass import OneVsRestClassifier\n",
    "from sklearn.svm import SVC\n",
    "from sklearn.model_selection import GridSearchCV\n",
    "from sklearn.metrics import f1_score\n",
    "from sklearn.metrics import make_scorer\n",
    "from sklearn.metrics import classification_report, recall_score, precision_score\n",
    "import numpy as np\n",
    "from sklearn.metrics import average_precision_score\n",
    "from sklearn.metrics import precision_recall_curve\n",
    "from sklearn.naive_bayes import MultinomialNB\n",
    "from sklearn.linear_model import SGDClassifier"
   ]
  },
  {
   "cell_type": "markdown",
   "metadata": {},
   "source": [
    "Since we will be trying a number of different models, we decided to create a function that will store all of the outcomes of interest in a dictionary."
   ]
  },
  {
   "cell_type": "code",
   "execution_count": 61,
   "metadata": {
    "collapsed": true
   },
   "outputs": [],
   "source": [
    "def evaluate_model(model, predictors, response, cv=False, params=None):\n",
    "    \"\"\"\n",
    "    evaluate_model()\n",
    "    \n",
    "    -splits the predictors & response variables into train and test sets. \n",
    "    -creates a dictionary of model outcomes that are of interest\n",
    "    -if specified, this function will use cross-validation to determine the optimal parameters for a given model\n",
    "    \n",
    "    inputs:\n",
    "        -model: a model object to be fitted\n",
    "        -predictors: an array, series, or dataframe of predictor variable(s)\n",
    "        -response: an array or series of the response variable\n",
    "        -cv: whether or not to cross-validate the model's parameters (default=False)\n",
    "        -params: if cv=True, params are required to indicate what parameters to optimize in the given model (default=None)\n",
    "        \n",
    "    outputs:\n",
    "        -a results dictionary containing the following:\n",
    "            -a fitted model object\n",
    "    \n",
    "    \"\"\"\n",
    "    results = {}\n",
    "    train_x, test_x = train_test_split(predictors, test_size=0.5, random_state=9001)\n",
    "    train_y, test_y = train_test_split(response, test_size=0.5, random_state=9001)\n",
    "    \n",
    "    if cv:\n",
    "        model = GridSearchCV(model, params, scoring=make_scorer(f1_score, average='micro'))\n",
    "    \n",
    "    classif = OneVsRestClassifier(model)\n",
    "    classif.fit(train_x, train_y)\n",
    "    \n",
    "    train_yhat = classif.predict(train_x)\n",
    "    test_yhat = classif.predict(test_x)\n",
    "    \n",
    "    results['fitted_model'] = classif\n",
    "    \n",
    "    results['train_yhat'] = train_yhat\n",
    "    results['test_yhat'] = test_yhat\n",
    "    \n",
    "    #train_y_score = classif.decision_function(train_x)\n",
    "    #test_y_score = classif.decision_function(test_x)\n",
    "    \n",
    "    #results['train_average_precision'] = average_precision_score(train_y, train_y_score)\n",
    "    #results['test_average_precision'] = average_precision_score(test_y, test_y_score)\n",
    "    \n",
    "    results['train_recall_score'] = recall_score(train_y, train_yhat, average='weighted')\n",
    "    results['test_recall_score'] = recall_score(test_y, test_yhat, average='weighted')\n",
    "    \n",
    "    results['train_precision_score'] = precision_score(train_y, train_yhat,average='weighted')\n",
    "    results['test_precision_score'] = precision_score(test_y, test_yhat,average='weighted')\n",
    "    \n",
    "    results['train_classification_report'] = classification_report(train_y, train_yhat)\n",
    "    results['test_classification_report'] = classification_report(test_y, test_yhat)\n",
    "    \n",
    "    return results"
   ]
  },
  {
   "cell_type": "markdown",
   "metadata": {},
   "source": [
    "# Create a dictionary to try multiple models in one cell"
   ]
  },
  {
   "cell_type": "code",
   "execution_count": 20,
   "metadata": {
    "collapsed": true
   },
   "outputs": [],
   "source": [
    "tmdb_bow = np.load('data/tmdb_bow.npy')\n",
    "imdb_bow = np.load('data/imdb_bow.npy')\n",
    "combined_bow = np.load('data/combined_bow.npy')"
   ]
  },
  {
   "cell_type": "markdown",
   "metadata": {},
   "source": [
    "todo: Incorporate this into our report at some point... this explains why we need to scale between 0 and 1\n",
    "https://stackoverflow.com/questions/25792012/feature-selection-using-scikit-learn"
   ]
  },
  {
   "cell_type": "code",
   "execution_count": 75,
   "metadata": {
    "collapsed": true
   },
   "outputs": [],
   "source": [
    "tmdb_w2v_mean = np.load('data/tmdb_w2v_mean.npy')\n",
    "imdb_w2v_mean = np.load('data/imdb_w2v_mean.npy')\n",
    "combined_w2v_mean = np.load('data/combined_w2v_mean.npy')\n",
    "\n",
    "tmdb_w2v_mean = np.apply_along_axis(lambda x: list(x), 0, tmdb_w2v_mean)\n",
    "imdb_w2v_mean = np.apply_along_axis(lambda x: list(x), 0, imdb_w2v_mean)\n",
    "combined_w2v_mean = np.apply_along_axis(lambda x: list(x), 0, combined_w2v_mean)\n",
    "\n",
    "\n",
    "\n",
    "scale.fit(imdb_w2v_mean)\n",
    "\n",
    "test = scale.transform(imdb_w2v_mean)"
   ]
  },
  {
   "cell_type": "code",
   "execution_count": 76,
   "metadata": {
    "collapsed": true
   },
   "outputs": [],
   "source": [
    "from sklearn.preprocessing import MinMaxScaler\n",
    "scale = MinMaxScaler()\n",
    "\n",
    "scale.fit(tmdb_w2v_mean)\n",
    "tmdb_w2v_mean = scale.transform(tmdb_w2v_mean)\n",
    "\n",
    "scale.fit(imdb_w2v_mean)\n",
    "imdb_w2v_mean = scale.transform(imdb_w2v_mean)\n",
    "\n",
    "scale.fit(combined_w2v_mean)\n",
    "combined_w2v_mean = scale.transform(combined_w2v_mean)"
   ]
  },
  {
   "cell_type": "code",
   "execution_count": null,
   "metadata": {
    "collapsed": true
   },
   "outputs": [],
   "source": [
    "from sklearn.preprocessing import MinMaxScaler\n",
    "scale = MinMaxScaler()\n",
    "scale.fit(imdb_w2v_mean)\n",
    "\n",
    "test = scale.transform(imdb_w2v_mean)"
   ]
  },
  {
   "cell_type": "code",
   "execution_count": 25,
   "metadata": {
    "collapsed": true
   },
   "outputs": [],
   "source": [
    "binary_tmdb = np.load('data/binary_tmdb.npy') #response\n",
    "binary_imdb = np.load('data/binary_imdb.npy') #response"
   ]
  },
  {
   "cell_type": "code",
   "execution_count": 77,
   "metadata": {
    "collapsed": true
   },
   "outputs": [],
   "source": [
    "modelDict = {'Naive-Bayes':{'model':MultinomialNB(),\n",
    "                           'params':{'alpha':[0.01,0.1,1.0]}},\n",
    "            \n",
    "            'SGD':{'model':SGDClassifier(loss='hinge',penalty='l2',n_iter=5,random_state=9001),\n",
    "                   'params':{'alpha':[0.01,0.1,1.0]}},\n",
    "            \n",
    "            'SVC':{'model':SVC(class_weight='balanced', kernel='linear'),\n",
    "                   'params':{'C':[0.01,0.1,1.0]}}\n",
    "           }\n",
    "\n",
    "predictorDict = {\n",
    "                 'tmdb_bow':tmdb_bow,\n",
    "                 'imdb_bow':imdb_bow,\n",
    "                 'combined_bow':combined_bow,\n",
    "                 'tmdb_w2v_mean':tmdb_w2v_mean,\n",
    "                 'imdb_w2v_mean':imdb_w2v_mean,\n",
    "                 'combined_w2v_mean':combined_w2v_mean\n",
    "                }"
   ]
  },
  {
   "cell_type": "code",
   "execution_count": 2,
   "metadata": {
    "scrolled": false
   },
   "outputs": [],
   "source": [
    "resultsDict = {}\n",
    "for model in modelDict:\n",
    "    for predictor in predictorDict:\n",
    "        resultsDict['{0}-{1}'.format(model,predictor)] = evaluate_model(model = modelDict[model]['model'],\n",
    "                                                                        predictors = predictorDict[predictor], \n",
    "                                                                        response = binary_tmdb,\n",
    "                                                                        cv=True,\n",
    "                                                                        params=modelDict[model]['params'])\n",
    "        "
   ]
  },
  {
   "cell_type": "markdown",
   "metadata": {},
   "source": [
    "The next 4 cells will be removed when we submit"
   ]
  },
  {
   "cell_type": "code",
   "execution_count": 81,
   "metadata": {
    "collapsed": true
   },
   "outputs": [],
   "source": [
    "#hacky code to temporarily store results in a json file\n",
    "temp = resultsDict.copy()"
   ]
  },
  {
   "cell_type": "code",
   "execution_count": 87,
   "metadata": {
    "collapsed": true
   },
   "outputs": [],
   "source": [
    "#hacky code to remove results that can't be stored in a json\n",
    "for key in temp:\n",
    "    for inner_key in temp[key]:\n",
    "        if inner_key not in ['train_recall_score','test_recall_score','train_precision_score','test_precision_score',\n",
    "                            'train_classification_report', 'test_classification_report']:\n",
    "            temp[key][inner_key] = None\n",
    "        "
   ]
  },
  {
   "cell_type": "code",
   "execution_count": 89,
   "metadata": {
    "collapsed": true
   },
   "outputs": [],
   "source": [
    "import json\n",
    "\n",
    "with open('data/resultsDict.json','w') as file:\n",
    "    json.dump(temp, file)"
   ]
  },
  {
   "cell_type": "code",
   "execution_count": 3,
   "metadata": {
    "collapsed": true
   },
   "outputs": [],
   "source": [
    "import json\n",
    "resultsDict = json.load(open('data/resultsDict.json'))"
   ]
  },
  {
   "cell_type": "code",
   "execution_count": 11,
   "metadata": {},
   "outputs": [],
   "source": [
    "scores = ['train_recall_score','test_recall_score',\n",
    "          'train_precision_score','test_precision_score']\n",
    "\n",
    "results_df = pd.DataFrame(resultsDict)"
   ]
  },
  {
   "cell_type": "code",
   "execution_count": 13,
   "metadata": {},
   "outputs": [],
   "source": [
    "results_df = results_df.loc[results_df.index.isin( scores)]"
   ]
  },
  {
   "cell_type": "code",
   "execution_count": 17,
   "metadata": {},
   "outputs": [],
   "source": [
    "results_df = results_df.transpose()"
   ]
  },
  {
   "cell_type": "code",
   "execution_count": 19,
   "metadata": {},
   "outputs": [],
   "source": [
    "best_recall = results_df['test_recall_score'].idxmax()\n",
    "best_precision = results_df['test_precision_score'].idxmax()"
   ]
  },
  {
   "cell_type": "code",
   "execution_count": 23,
   "metadata": {},
   "outputs": [
    {
     "data": {
      "text/html": [
       "<div>\n",
       "<style>\n",
       "    .dataframe thead tr:only-child th {\n",
       "        text-align: right;\n",
       "    }\n",
       "\n",
       "    .dataframe thead th {\n",
       "        text-align: left;\n",
       "    }\n",
       "\n",
       "    .dataframe tbody tr th {\n",
       "        vertical-align: top;\n",
       "    }\n",
       "</style>\n",
       "<table border=\"1\" class=\"dataframe\">\n",
       "  <thead>\n",
       "    <tr style=\"text-align: right;\">\n",
       "      <th></th>\n",
       "      <th>test_precision_score</th>\n",
       "      <th>test_recall_score</th>\n",
       "      <th>train_precision_score</th>\n",
       "      <th>train_recall_score</th>\n",
       "    </tr>\n",
       "  </thead>\n",
       "  <tbody>\n",
       "    <tr>\n",
       "      <th>Naive-Bayes-combined_bow</th>\n",
       "      <td>0.626207</td>\n",
       "      <td>0.349427</td>\n",
       "      <td>0.995362</td>\n",
       "      <td>0.884996</td>\n",
       "    </tr>\n",
       "    <tr>\n",
       "      <th>SVC-combined_w2v_mean</th>\n",
       "      <td>0.533918</td>\n",
       "      <td>0.684124</td>\n",
       "      <td>0.76288</td>\n",
       "      <td>0.914699</td>\n",
       "    </tr>\n",
       "  </tbody>\n",
       "</table>\n",
       "</div>"
      ],
      "text/plain": [
       "                         test_precision_score test_recall_score  \\\n",
       "Naive-Bayes-combined_bow             0.626207          0.349427   \n",
       "SVC-combined_w2v_mean                0.533918          0.684124   \n",
       "\n",
       "                         train_precision_score train_recall_score  \n",
       "Naive-Bayes-combined_bow              0.995362           0.884996  \n",
       "SVC-combined_w2v_mean                  0.76288           0.914699  "
      ]
     },
     "execution_count": 23,
     "metadata": {},
     "output_type": "execute_result"
    }
   ],
   "source": [
    "results_df.loc[results_df.index.isin([best_recall, best_precision])]"
   ]
  },
  {
   "cell_type": "code",
   "execution_count": 22,
   "metadata": {},
   "outputs": [
    {
     "data": {
      "text/plain": [
       "array([ True, False, False, False, False, False, False, False, False,\n",
       "       False, False, False, False,  True, False, False, False, False])"
      ]
     },
     "execution_count": 22,
     "metadata": {},
     "output_type": "execute_result"
    }
   ],
   "source": [
    "results_df.index.isin([best_recall, best_precision])"
   ]
  },
  {
   "cell_type": "code",
   "execution_count": 26,
   "metadata": {},
   "outputs": [
    {
     "name": "stdout",
     "output_type": "stream",
     "text": [
      "             precision    recall  f1-score   support\n",
      "\n",
      "          0       0.99      0.98      0.98        88\n",
      "          1       1.00      0.91      0.95        55\n",
      "          2       1.00      1.00      1.00        52\n",
      "          3       0.99      1.00      0.99       327\n",
      "          4       1.00      1.00      1.00        26\n",
      "          5       1.00      0.99      0.99        84\n",
      "          6       1.00      0.03      0.06       121\n",
      "          7       0.97      0.87      0.92        39\n",
      "          8       1.00      1.00      1.00        11\n",
      "          9       1.00      0.94      0.97       112\n",
      "         10       1.00      0.96      0.98        93\n",
      "         11       1.00      1.00      1.00        52\n",
      "         12       1.00      0.96      0.98        55\n",
      "         13       1.00      1.00      1.00        24\n",
      "         14       1.00      0.97      0.99        77\n",
      "         15       1.00      0.97      0.98        59\n",
      "         16       1.00      0.91      0.96        35\n",
      "         17       1.00      1.00      1.00         3\n",
      "\n",
      "avg / total       1.00      0.88      0.90      1313\n",
      "\n",
      "             precision    recall  f1-score   support\n",
      "\n",
      "          0       0.88      0.27      0.41        79\n",
      "          1       0.67      0.16      0.26        38\n",
      "          2       1.00      0.11      0.20        46\n",
      "          3       0.73      0.91      0.81       316\n",
      "          4       0.00      0.00      0.00        26\n",
      "          5       0.68      0.21      0.32        82\n",
      "          6       0.00      0.00      0.00       115\n",
      "          7       0.50      0.03      0.06        33\n",
      "          8       0.00      0.00      0.00        22\n",
      "          9       0.57      0.21      0.31       112\n",
      "         10       0.72      0.34      0.46        83\n",
      "         11       0.75      0.11      0.19        54\n",
      "         12       0.83      0.11      0.20        45\n",
      "         13       0.00      0.00      0.00        20\n",
      "         14       0.80      0.06      0.11        71\n",
      "         15       0.77      0.19      0.31        52\n",
      "         16       0.92      0.44      0.59        25\n",
      "         17       0.00      0.00      0.00         3\n",
      "\n",
      "avg / total       0.63      0.35      0.38      1222\n",
      "\n"
     ]
    }
   ],
   "source": [
    "print(resultsDict[best_precision]['train_classification_report'])\n",
    "print(resultsDict[best_precision]['test_classification_report'])"
   ]
  },
  {
   "cell_type": "code",
   "execution_count": null,
   "metadata": {
    "collapsed": true
   },
   "outputs": [],
   "source": []
  }
 ],
 "metadata": {
  "kernelspec": {
   "display_name": "Python 3",
   "language": "python",
   "name": "python3"
  },
  "language_info": {
   "codemirror_mode": {
    "name": "ipython",
    "version": 3
   },
   "file_extension": ".py",
   "mimetype": "text/x-python",
   "name": "python",
   "nbconvert_exporter": "python",
   "pygments_lexer": "ipython3",
   "version": "3.6.1"
  }
 },
 "nbformat": 4,
 "nbformat_minor": 2
}
